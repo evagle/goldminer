{
 "cells": [
  {
   "cell_type": "code",
   "execution_count": 19,
   "metadata": {},
   "outputs": [
    {
     "name": "stdout",
     "output_type": "stream",
     "text": [
      "select code, trade_date FROM index_constituents WHERE code = '000001' and trade_date = '2011-10-01'\n"
     ]
    },
    {
     "data": {
      "text/plain": [
       "()"
      ]
     },
     "execution_count": 19,
     "metadata": {},
     "output_type": "execute_result"
    }
   ],
   "source": [
    "from DB import *\n",
    "import pandas as pd\n",
    "\n",
    "db = DB()\n",
    "# indexes = db.getIndexList()\n",
    "\n",
    "\n",
    "# for code in indexes:\n",
    "#     if code == \"000001\":\n",
    "#         continue\n",
    "#     data = db.executeSql(\"select code,trade_date from index_constituents where code='%s'\" % code)\n",
    "# #     print(data)\n",
    "#     for item in data:\n",
    "#         if item[1].day == 1:\n",
    "#             newdate = item[1] - pd.tseries.offsets.DateOffset(days=1)\n",
    "#             print(item[1], newdate.date())\n",
    "#             db.executeSql(\"update index_constituents set trade_date='%s' where code = '%s' and trade_date = '%s'\" % \\\n",
    "#                          (newdate.date().strftime(\"%Y-%m-%d\"), code, item[1].strftime(\"%Y-%m-%d\")))\n",
    "# #     break"
   ]
  },
  {
   "cell_type": "code",
   "execution_count": null,
   "metadata": {},
   "outputs": [],
   "source": []
  }
 ],
 "metadata": {
  "kernelspec": {
   "display_name": "Python 3",
   "language": "python",
   "name": "python3"
  },
  "language_info": {
   "codemirror_mode": {
    "name": "ipython",
    "version": 3
   },
   "file_extension": ".py",
   "mimetype": "text/x-python",
   "name": "python",
   "nbconvert_exporter": "python",
   "pygments_lexer": "ipython3",
   "version": "3.6.4"
  }
 },
 "nbformat": 4,
 "nbformat_minor": 2
}
