{
 "cells": [
  {
   "cell_type": "code",
   "execution_count": null,
   "metadata": {},
   "outputs": [],
   "source": [
    "from __future__ import print_function, absolute_import, unicode_literals\n",
    "\n",
    "import MySQLdb\n",
    "import codecs\n",
    "from datetime import *\n",
    "import time\n",
    "import json\n",
    "\n",
    "import sys\n",
    "sys.path.append('../')\n",
    "from DB import *\n",
    "from IndexConstituentManager import *\n",
    "\n",
    "\n",
    "class StockService:\n",
    "    def __init__(self):\n",
    "        self.db = DB()\n",
    "        self.stockPETTMCache = {}\n",
    "    \n",
    "    def _dateToStr(self, date):\n",
    "        return date.strftime(\"%Y-%m-%d\")\n",
    "    \n",
    "    def _loadStockPETTM(self, stockCode):\n",
    "        if stockCode in self.stockPETTMCache:\n",
    "            return\n",
    "        sql = \"SELECT end_date, PETTM FROM trading_derivative_indicator WHERE code = '%s'\"\n",
    "        sql = sql % stockCode\n",
    "        result = self.db.executeSql(sql)\n",
    "        pe = {}\n",
    "        for row in result:\n",
    "            pe[self._dateToStr(row[0])] = row[1]\n",
    "        self.stockPETTMCache[stockCode] = pe\n",
    "        print(\"Load stock %s PETTM successfully\" % stockCode)\n",
    "        \n",
    "    def getStockPETTM(self, stockCode, date):\n",
    "        if stockCode not in self.stockPETTMCache:\n",
    "            self._loadStockPETTM(stockCode)\n",
    "        return self.stockPETTMCache[stockCode][self._dateToStr(date)]\n"
   ]
  }
 ],
 "metadata": {
  "kernelspec": {
   "display_name": "Python 3",
   "language": "python",
   "name": "python3"
  },
  "language_info": {
   "codemirror_mode": {
    "name": "ipython",
    "version": 3
   },
   "file_extension": ".py",
   "mimetype": "text/x-python",
   "name": "python",
   "nbconvert_exporter": "python",
   "pygments_lexer": "ipython3",
   "version": "3.6.4"
  }
 },
 "nbformat": 4,
 "nbformat_minor": 2
}
