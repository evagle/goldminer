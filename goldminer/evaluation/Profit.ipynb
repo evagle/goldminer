{
 "cells": [
  {
   "cell_type": "code",
   "execution_count": null,
   "metadata": {},
   "outputs": [],
   "source": [
    "from __future__ import print_function, absolute_import, unicode_literals\n",
    "\n",
    "import MySQLdb\n",
    "import codecs\n",
    "from datetime import *\n",
    "import time\n",
    "from DB import *\n",
    "import json\n",
    "\n",
    "class Profit:\n",
    "    def __init__(self):\n",
    "        self.db = new DB()\n",
    "        \n",
    "    def getProfitAt(self, code, date):\n",
    "        sql = \"SELECT code, pub_date, end_date, NETPROFIT FROM income_statement WHERE code = '%s' and pub_date <= '%s' ORDER BY pub_date LIMIT 1\"\n",
    "        sql = sql % (code, date.strftime(\"%Y-%m-%d\"))\n",
    "        result = self.db.executeSql(sql)\n",
    "        if len(result) > 0:\n",
    "            return {\"code\" : result[0][0], \"pub_date\" : result[0][1], \"end_date\" : result[0][2], \"net_profit\" : result[0][3]}\n",
    "    \n",
    "    def getProfitTTM(self, code, date):\n",
    "        sql = \n",
    "        \n",
    "        "
   ]
  }
 ],
 "metadata": {
  "kernelspec": {
   "display_name": "Python 3",
   "language": "python",
   "name": "python3"
  },
  "language_info": {
   "codemirror_mode": {
    "name": "ipython",
    "version": 3
   },
   "file_extension": ".py",
   "mimetype": "text/x-python",
   "name": "python",
   "nbconvert_exporter": "python",
   "pygments_lexer": "ipython3",
   "version": "3.6.4"
  }
 },
 "nbformat": 4,
 "nbformat_minor": 2
}
