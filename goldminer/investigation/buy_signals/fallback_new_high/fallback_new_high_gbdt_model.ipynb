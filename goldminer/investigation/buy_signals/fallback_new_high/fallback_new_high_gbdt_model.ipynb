{
 "cells": [
  {
   "cell_type": "markdown",
   "metadata": {},
   "source": [
    "经验总结：\n",
    "1. 此模型适合牛市，大部分正样本都在牛市，所以训练出来的模型在熊市中效果并不好，但是实验表明，用14年以前的数据train的model能够适应15年的牛市数据\n",
    "2. 模型可以用来大概预测牛市初期，因为在熊市中predict=1的数量非常少\n"
   ]
  },
  {
   "cell_type": "code",
   "execution_count": 1,
   "metadata": {},
   "outputs": [
    {
     "name": "stderr",
     "output_type": "stream",
     "text": [
      "/anaconda3/lib/python3.6/site-packages/lightgbm/__init__.py:46: UserWarning: Starting from version 2.2.1, the library file in distribution wheels for macOS is built by the Apple Clang (Xcode_8.3.1) compiler.\n",
      "This means that in case of installing LightGBM from PyPI via the ``pip install lightgbm`` command, you don't need to install the gcc compiler anymore.\n",
      "Instead of that, you need to install the OpenMP library, which is required for running LightGBM on the system with the Apple Clang compiler.\n",
      "You can install the OpenMP library by the following command: ``brew install libomp``.\n",
      "  \"You can install the OpenMP library by the following command: ``brew install libomp``.\", UserWarning)\n"
     ]
    }
   ],
   "source": [
    "import lightgbm as lgb\n",
    "import pandas as pd\n",
    "import numpy as np\n",
    "from datetime import datetime, timedelta\n",
    "from sklearn.metrics import mean_squared_error\n",
    "from sklearn.model_selection import GridSearchCV\n",
    "from sklearn.model_selection import train_test_split\n",
    "from sklearn.datasets import  make_classification\n"
   ]
  },
  {
   "cell_type": "code",
   "execution_count": 2,
   "metadata": {
    "scrolled": true
   },
   "outputs": [],
   "source": [
    "df_raw = pd.read_csv(\"./fallback_new_high_3683_2018-12-19.tsv\", sep=\"\\t\")\n",
    "# df_raw = pd.read_csv(\"~/buypoints.tsv\", sep=\"\\t\")\n",
    "\n",
    "\n",
    "features = [\"average_inner_amplitude\", \n",
    "            \"average_outer_amplitude\", \n",
    "            \"average_turn_rate\", \n",
    "            \"increase_before_fallback\", \n",
    "            \"max_decrease\",  \n",
    "            \"pb_height\", \n",
    "            \"pe_height\", \n",
    "            \"profit_growth\", \n",
    "            \"sma10_120\", \n",
    "            \"sma10_250\", \n",
    "            \"sma120_250\", \n",
    "            \"sma50_120\", \n",
    "            \"variance\", \n",
    "            \"volume_ratio\",\n",
    "            \"adjust_period\",\n",
    "            \"business_growth\",\n",
    "            \"pe\",\n",
    "            \"pb\",\n",
    "            \"mkt_cap\",\n",
    "            \"new_high_days\",\n",
    "            \"days_with_lower_price\",\n",
    "            \"days_from_bottom\",\n",
    "            \"roe\",\n",
    "            \"eps\",\n",
    "            \"close_sma50\",\n",
    "            \"close_sma250\",\n",
    "            \"eps_growth\",\n",
    "            \"rps50\",\n",
    "            \"rps120\",\n",
    "            \"rps250\"\n",
    "           ]\n",
    "target = [\"target\"]\n",
    "\n",
    "# Add filter here\n",
    "# 1. only use end_date <= one year before\n",
    "\n",
    "now = datetime.now()\n",
    "end = now - timedelta(days=250)\n",
    "\n",
    "df_raw = df_raw[df_raw[\"end_date\"] < end.strftime(\"%Y-%m-%d\")]\n",
    "\n"
   ]
  },
  {
   "cell_type": "markdown",
   "metadata": {},
   "source": [
    "测试，按日期划分数据，看是旧数据train的model是否可以预测未来的数据\n",
    "\n",
    "excluded = now - timedelta(days=250*6.5)\n",
    "cut_point =  excluded.strftime(\"%Y-%m-%d\")\n",
    "print(cut_point)\n",
    "df_new = df_raw[df_raw[\"end_date\"] >= cut_point]\n",
    "df_old = df_raw[df_raw[\"end_date\"] < cut_point ]\n",
    "\n",
    "X = df_new[features]\n",
    "y = df_new[target]\n",
    "\n",
    "X_train = df_new[features]\n",
    "y_train = df_new[target]\n",
    "X_test = df_old[features]\n",
    "y_test = df_old[target]"
   ]
  },
  {
   "cell_type": "code",
   "execution_count": 3,
   "metadata": {},
   "outputs": [
    {
     "name": "stdout",
     "output_type": "stream",
     "text": [
      "Train set shape: (44060, 30)\n",
      "Test set shape: (11016, 30)\n"
     ]
    }
   ],
   "source": [
    "X = df_raw[features]\n",
    "y = df_raw[target].values.ravel()\n",
    "\n",
    "X_train,X_test,y_train,y_test = train_test_split(X, y, test_size=0.2, random_state = 88)\n",
    "\n",
    "\n",
    "print(\"Train set shape:\", X_train.shape)\n",
    "print(\"Test set shape:\", X_test.shape)"
   ]
  },
  {
   "cell_type": "code",
   "execution_count": 4,
   "metadata": {
    "collapsed": true
   },
   "outputs": [],
   "source": [
    "# try classification\n",
    "\n",
    "from lightgbm import LGBMClassifier,LGBMModel\n",
    "from sklearn.metrics import f1_score, precision_score, recall_score, precision_recall_curve, confusion_matrix, average_precision_score\n",
    "from sklearn.model_selection import KFold\n",
    "from sklearn.feature_selection import RFECV\n",
    "import sklearn\n"
   ]
  },
  {
   "cell_type": "code",
   "execution_count": 5,
   "metadata": {},
   "outputs": [
    {
     "name": "stdout",
     "output_type": "stream",
     "text": [
      "Fitting estimator with 30 features.\n",
      "Fitting estimator with 29 features.\n",
      "Fitting estimator with 28 features.\n",
      "Fitting estimator with 27 features.\n",
      "Fitting estimator with 26 features.\n",
      "Fitting estimator with 25 features.\n",
      "Fitting estimator with 24 features.\n",
      "Fitting estimator with 23 features.\n",
      "Fitting estimator with 22 features.\n",
      "Fitting estimator with 21 features.\n",
      "Fitting estimator with 20 features.\n",
      "Fitting estimator with 19 features.\n",
      "Fitting estimator with 18 features.\n",
      "Fitting estimator with 17 features.\n",
      "Fitting estimator with 16 features.\n",
      "Fitting estimator with 15 features.\n",
      "Fitting estimator with 14 features.\n",
      "Fitting estimator with 13 features.\n",
      "Fitting estimator with 12 features.\n",
      "Fitting estimator with 11 features.\n",
      "Fitting estimator with 10 features.\n",
      "Fitting estimator with 9 features.\n",
      "Fitting estimator with 8 features.\n",
      "Fitting estimator with 7 features.\n",
      "Fitting estimator with 6 features.\n",
      "Fitting estimator with 5 features.\n",
      "Fitting estimator with 4 features.\n",
      "Fitting estimator with 3 features.\n",
      "Fitting estimator with 2 features.\n",
      "Fitting estimator with 30 features.\n",
      "Fitting estimator with 29 features.\n",
      "Fitting estimator with 28 features.\n",
      "Fitting estimator with 27 features.\n",
      "Fitting estimator with 26 features.\n",
      "Fitting estimator with 25 features.\n",
      "Fitting estimator with 24 features.\n",
      "Fitting estimator with 23 features.\n",
      "Fitting estimator with 22 features.\n",
      "Fitting estimator with 21 features.\n",
      "Fitting estimator with 20 features.\n",
      "Fitting estimator with 19 features.\n",
      "Fitting estimator with 18 features.\n",
      "Fitting estimator with 17 features.\n",
      "Fitting estimator with 16 features.\n",
      "Fitting estimator with 15 features.\n",
      "Fitting estimator with 14 features.\n",
      "Fitting estimator with 13 features.\n",
      "Fitting estimator with 12 features.\n",
      "Fitting estimator with 11 features.\n",
      "Fitting estimator with 10 features.\n",
      "Fitting estimator with 9 features.\n",
      "Fitting estimator with 8 features.\n",
      "Fitting estimator with 7 features.\n",
      "Fitting estimator with 6 features.\n",
      "Fitting estimator with 5 features.\n",
      "Fitting estimator with 4 features.\n",
      "Fitting estimator with 3 features.\n",
      "Fitting estimator with 2 features.\n",
      "Fitting estimator with 30 features.\n",
      "Fitting estimator with 29 features.\n",
      "Fitting estimator with 28 features.\n",
      "Fitting estimator with 27 features.\n",
      "Fitting estimator with 26 features.\n",
      "Fitting estimator with 25 features.\n",
      "Fitting estimator with 24 features.\n",
      "Fitting estimator with 23 features.\n",
      "Fitting estimator with 22 features.\n",
      "Fitting estimator with 21 features.\n",
      "Fitting estimator with 20 features.\n",
      "Fitting estimator with 19 features.\n",
      "Fitting estimator with 18 features.\n",
      "Fitting estimator with 17 features.\n",
      "Fitting estimator with 16 features.\n",
      "Fitting estimator with 15 features.\n",
      "Fitting estimator with 14 features.\n",
      "Fitting estimator with 13 features.\n",
      "Fitting estimator with 12 features.\n",
      "Fitting estimator with 11 features.\n",
      "Fitting estimator with 10 features.\n",
      "Fitting estimator with 9 features.\n",
      "Fitting estimator with 8 features.\n",
      "Fitting estimator with 7 features.\n",
      "Fitting estimator with 6 features.\n",
      "Fitting estimator with 5 features.\n",
      "Fitting estimator with 4 features.\n",
      "Fitting estimator with 3 features.\n",
      "Fitting estimator with 2 features.\n",
      "Fitting estimator with 30 features.\n",
      "Fitting estimator with 29 features.\n",
      "Fitting estimator with 28 features.\n",
      "Fitting estimator with 27 features.\n",
      "Fitting estimator with 26 features.\n",
      "Fitting estimator with 25 features.\n",
      "Fitting estimator with 24 features.\n",
      "Fitting estimator with 23 features.\n",
      "Fitting estimator with 22 features.\n",
      "Fitting estimator with 21 features.\n",
      "Fitting estimator with 20 features.\n",
      "Fitting estimator with 19 features.\n",
      "Fitting estimator with 18 features.\n",
      "Fitting estimator with 17 features.\n",
      "Fitting estimator with 16 features.\n",
      "Fitting estimator with 15 features.\n",
      "Fitting estimator with 14 features.\n",
      "Fitting estimator with 13 features.\n",
      "Fitting estimator with 12 features.\n",
      "Fitting estimator with 11 features.\n",
      "Fitting estimator with 10 features.\n",
      "Fitting estimator with 9 features.\n",
      "Fitting estimator with 8 features.\n",
      "Fitting estimator with 7 features.\n",
      "Fitting estimator with 6 features.\n",
      "Fitting estimator with 5 features.\n",
      "Fitting estimator with 4 features.\n",
      "Fitting estimator with 3 features.\n",
      "Fitting estimator with 2 features.\n"
     ]
    },
    {
     "data": {
      "text/plain": [
       "RFECV(cv=KFold(n_splits=4, random_state=None, shuffle=False),\n",
       "   estimator=LGBMClassifier(boosting_type='gbdt', class_weight=None, colsample_bytree=1.0,\n",
       "        importance_type='split', learning_rate=0.1, max_depth=7,\n",
       "        min_child_samples=15, min_child_weight=0.001, min_split_gain=0.0,\n",
       "        n_estimators=150, n_jobs=-1, num_leaves=31, objective='binary',\n",
       "        random_state=None, reg_alpha=0.0, reg_lambda=0.0, silent=False,\n",
       "        subsample=1.0, subsample_for_bin=200000, subsample_freq=0),\n",
       "   n_jobs=1, scoring='average_precision', step=1, verbose=1)"
      ]
     },
     "execution_count": 5,
     "metadata": {},
     "output_type": "execute_result"
    }
   ],
   "source": [
    "#default initial parameters for feature selection\n",
    "lgb_model = LGBMClassifier(boosting_type='gbdt',\n",
    "                      objective='binary',\n",
    "                      max_depth=7,\n",
    "                      learning_rate=0.1,\n",
    "                      n_estimators=150,\n",
    "                      min_child_samples=15,\n",
    "                     silent=False)\n",
    "\n",
    "# Initialize CV and evaluation objects\n",
    "kfold = KFold(n_splits=4)\n",
    "\n",
    "feature_selector = RFECV(lgb_model, cv=kfold, verbose=1, scoring='average_precision')\n",
    "feature_selector.fit(X_train, y_train)\n"
   ]
  },
  {
   "cell_type": "code",
   "execution_count": 6,
   "metadata": {},
   "outputs": [
    {
     "name": "stdout",
     "output_type": "stream",
     "text": [
      "Selected features: \n",
      "['average_inner_amplitude' 'average_outer_amplitude' 'average_turn_rate'\n",
      " 'max_decrease' 'pb_height' 'pe_height' 'profit_growth' 'sma10_250'\n",
      " 'sma120_250' 'sma50_120' 'variance' 'volume_ratio' 'adjust_period'\n",
      " 'business_growth' 'pe' 'pb' 'mkt_cap' 'new_high_days'\n",
      " 'days_with_lower_price' 'days_from_bottom' 'roe' 'eps' 'close_sma50'\n",
      " 'eps_growth' 'rps50' 'rps120' 'rps250']\n",
      "\n",
      "Deleted features: \n",
      "['close_sma250', 'sma10_120', 'increase_before_fallback']\n",
      "\n"
     ]
    }
   ],
   "source": [
    "# Mask with selected features\n",
    "selected_feature_mask = feature_selector.get_support(indices=True)\n",
    "selected_features = X_train[features].iloc[:, selected_feature_mask].columns.values\n",
    "deleted_features = list(set(features) - set(selected_features))\n",
    "\n",
    "print(\"Selected features: \\n{}\\n\".format(selected_features))\n",
    "print(\"Deleted features: \\n{}\\n\".format(deleted_features))\n",
    "\n",
    "\n",
    "# Now we can drop the features deemed bad by the model\n",
    "X_train_filtered = X_train.drop(deleted_features, axis=1)\n",
    "X_test_filtered = X_test.drop(deleted_features, axis=1)\n",
    "X_filtered = X.drop(deleted_features, axis=1)"
   ]
  },
  {
   "cell_type": "markdown",
   "metadata": {},
   "source": [
    "过拟合的解决方案有：\n",
    "1. 减小learning rate\n",
    "2. feature selection,减少feature\n",
    "3. 减少树的数量\n",
    "4. 控制min data in leaf\n",
    "5. 添加正则项"
   ]
  },
  {
   "cell_type": "code",
   "execution_count": 7,
   "metadata": {},
   "outputs": [
    {
     "name": "stdout",
     "output_type": "stream",
     "text": [
      "(44060,)\n",
      "Best parameters:  {'learning_rate': 0.1, 'max_depth': 7, 'min_data_in_leaf': 31, 'n_estimators': 150}\n"
     ]
    }
   ],
   "source": [
    "from sklearn.model_selection import GroupKFold, GridSearchCV\n",
    "\n",
    "param_grid = {'max_depth': [5, 6, 7], \n",
    "              'learning_rate': [0.01, 0.05, 0.1],\n",
    "              'n_estimators': [50, 100, 150],\n",
    "              'min_data_in_leaf':  [10, 15, 20, 31],\n",
    "             }\n",
    " \n",
    "kfold = KFold(n_splits=4)\n",
    "\n",
    "gs = GridSearchCV(lgb_model, param_grid, scoring='average_precision', cv=kfold, refit=True)\n",
    "\n",
    "gs.fit(X_train_filtered, y_train, verbose=100)\n",
    "final_model = gs.best_estimator_\n",
    "\n",
    "final_model._Booster.save_model(\"fallback_new_hight_gbdt_model.txt\")\n",
    "\n",
    "\n",
    "print(y_train.shape)\n",
    "print(\"Best parameters: \", gs.best_params_)\n",
    "\n"
   ]
  },
  {
   "cell_type": "code",
   "execution_count": 8,
   "metadata": {},
   "outputs": [
    {
     "data": {
      "text/plain": [
       "<matplotlib.figure.Figure at 0x109faba20>"
      ]
     },
     "metadata": {},
     "output_type": "display_data"
    },
    {
     "data": {
      "image/png": "[encoded data removed]",
      "text/plain": [
       "<matplotlib.figure.Figure at 0x1a0d480550>"
      ]
     },
     "metadata": {},
     "output_type": "display_data"
    }
   ],
   "source": [
    "import lightgbm\n",
    "import matplotlib.pyplot as plt\n",
    "\n",
    "plt.figure(figsize=(20, 16))\n",
    "ax = lightgbm.plot_importance(final_model)\n",
    "\n",
    "plt.show()"
   ]
  },
  {
   "cell_type": "code",
   "execution_count": 9,
   "metadata": {},
   "outputs": [
    {
     "data": {
      "image/png": "[encoded data removed]",
      "text/plain": [
       "<matplotlib.figure.Figure at 0x1a0d81d6d8>"
      ]
     },
     "metadata": {},
     "output_type": "display_data"
    },
    {
     "name": "stdout",
     "output_type": "stream",
     "text": [
      "AUC =  0.792676065732\n"
     ]
    }
   ],
   "source": [
    "from sklearn.metrics import roc_curve, roc_auc_score\n",
    "\n",
    "for mod, X_t, y_t in [(final_model, X_test_filtered, y_test)]:\n",
    "    preds = mod.predict_proba(X_t)\n",
    "    fpr, tpr, thresholds = roc_curve(y_t, preds[:,1], pos_label=1)\n",
    "    \n",
    "    plt.step(fpr, tpr, color='b', alpha=0.2, where='post')\n",
    "    plt.fill_between(fpr, tpr, step='post', alpha=0.2, color='b')\n",
    "\n",
    "    plt.xlabel('fpr')\n",
    "    plt.ylabel('tpr')\n",
    "    plt.ylim([0.0, 1.05])\n",
    "    plt.xlim([0.0, 1.0])\n",
    "    plt.title('ROC curve')\n",
    "    plt.show()\n",
    "\n",
    "    auc = roc_auc_score(y_t, preds[:, 1])\n",
    "    print(\"AUC = \", auc)"
   ]
  },
  {
   "cell_type": "code",
   "execution_count": 10,
   "metadata": {
    "scrolled": false
   },
   "outputs": [
    {
     "data": {
      "image/png": "[encoded data removed]",
      "text/plain": [
       "<matplotlib.figure.Figure at 0x1a0b112208>"
      ]
     },
     "metadata": {},
     "output_type": "display_data"
    },
    {
     "name": "stdout",
     "output_type": "stream",
     "text": [
      "average_precision 0.654335691201\n"
     ]
    }
   ],
   "source": [
    "\n",
    "import math\n",
    "def max_recall_for_precision(data, scores, pos_label, min_pr):\n",
    "#       \"\"\"Find precision, recall, threshold which is >= min_pr and maximizes recall\"\"\"\n",
    "    if pos_label==0:\n",
    "        pr, rec, thresh = precision_recall_curve(1 - data, 1 - scores, pos_label=1)\n",
    "        thresh = 1 - thresh #convert threshold back to P(nondefect) score space\n",
    "    else:\n",
    "        pr, rec, thresh = precision_recall_curve(data, scores, pos_label=1)\n",
    "    values = [(r, p, t) for p, r, t in zip(pr, rec, thresh) if p >= min_pr]\n",
    "    if len(values) >=1:\n",
    "        r, p, t = max(values)\n",
    "        return p, r, t\n",
    "    return None, None, None\n",
    "\n",
    "\n",
    "def plot_prcurve(y_test, y_pred):\n",
    "    plt.figure(figsize=(6, 4))\n",
    "    precision,recall,threshold = precision_recall_curve(y_test, y_pred)\n",
    "    plt.step(recall, precision, color='b', alpha=0.1, where='post')\n",
    "    plt.fill_between(recall, precision, step='post', alpha=0.2, color='b')\n",
    "\n",
    "    plt.xlabel('Recall')\n",
    "    plt.ylabel('Precision')\n",
    "    plt.ylim([0.0, 1.05])\n",
    "    plt.xlim([0.0, 1.0])\n",
    "    plt.title('2-class Precision-Recall curve')\n",
    "    plt.show()\n",
    "\n",
    "for mod,X_t in [(final_model, X_test_filtered)]:\n",
    "    preds = mod.predict_proba(X_t)\n",
    "    plot_prcurve(y_test, preds[:,1])\n",
    "\n",
    "#     for min_pr in range(60, 90, 1):\n",
    "#         min_pr = min_pr / 100.0\n",
    "#         p,r,t = max_recall_for_precision(y_test, preds[:,1], 1, min_pr)\n",
    "#         f1 = 2 * min_pr * r / (min_pr + r)\n",
    "#         print(\"r=%.4f p=%.2f f1=%.2f threshold=%.4f\" % (r, min_pr, f1, t))\n",
    "\n",
    "    for score in ['average_precision']:\n",
    "        evaluator = sklearn.metrics.get_scorer(score)\n",
    "        score_val = evaluator(mod, X_t, y_test)\n",
    "        print(score, score_val)"
   ]
  },
  {
   "cell_type": "code",
   "execution_count": 11,
   "metadata": {},
   "outputs": [
    {
     "name": "stdout",
     "output_type": "stream",
     "text": [
      "(44060, 27)\n",
      "(44060,)\n"
     ]
    },
    {
     "data": {
      "image/png": "[encoded data removed]",
      "text/plain": [
       "<matplotlib.figure.Figure at 0x1a0da28ef0>"
      ]
     },
     "metadata": {},
     "output_type": "display_data"
    }
   ],
   "source": [
    "from sklearn.model_selection import learning_curve\n",
    "print(X_train_filtered.shape)\n",
    "print(y_train.shape)\n",
    "\n",
    "train_sizes,train_score,test_score = learning_curve(\n",
    "    final_model,\n",
    "    X_filtered.values,\n",
    "    y,\n",
    "    train_sizes=[0.1,0.2,0.4,0.6,0.8,1],\n",
    "    cv=4,\n",
    "    scoring='accuracy')\n",
    "\n",
    "train_error =  1- np.mean(train_score,axis=1)\n",
    "test_error = 1- np.mean(test_score,axis=1)\n",
    "plt.plot(train_sizes,train_error,'o-',color = 'r',label = 'training')\n",
    "plt.plot(train_sizes,test_error,'o-',color = 'g',label = 'testing')\n",
    "plt.legend(loc='best')\n",
    "plt.xlabel('traing examples')\n",
    "plt.ylabel('error')\n",
    "plt.show()"
   ]
  },
  {
   "cell_type": "code",
   "execution_count": 12,
   "metadata": {},
   "outputs": [
    {
     "data": {
      "image/png": "[encoded data removed]",
      "text/plain": [
       "<matplotlib.figure.Figure at 0x1a0d7c29e8>"
      ]
     },
     "metadata": {},
     "output_type": "display_data"
    },
    {
     "name": "stdout",
     "output_type": "stream",
     "text": [
      "midpoint 0.789353147508 diff 0.0679459933286\n"
     ]
    },
    {
     "data": {
      "text/plain": [
       "(0.78935314750774466, 0.067945993328641041)"
      ]
     },
     "execution_count": 12,
     "metadata": {},
     "output_type": "execute_result"
    }
   ],
   "source": [
    "def plot_learning_curve(estimator, X, y, ylim=None, cv=None, n_jobs=1, title = \"learning-curve\", train_sizes=np.linspace(.05, 1., 20), verbose=0, plot=True):\n",
    "    \"\"\"\n",
    "    画出data在某模型上的learning curve.\n",
    "    参数解释\n",
    "    ----------\n",
    "    estimator : 你用的分类器。\n",
    "    title : 表格的标题。\n",
    "    X : 输入的feature，numpy类型\n",
    "    y : 输入的target vector\n",
    "    ylim : tuple格式的(ymin, ymax), 设定图像中纵坐标的最低点和最高点\n",
    "    cv : 做cross-validation的时候，数据分成的份数，其中一份作为cv集，其余n-1份作为training(默认为3份)\n",
    "    n_jobs : 并行的的任务数(默认1)\n",
    "    \"\"\"\n",
    "    train_sizes, train_scores, test_scores = learning_curve(\n",
    "        estimator, X, y, cv=cv, n_jobs=n_jobs, train_sizes=train_sizes, verbose=verbose, scoring='accuracy')\n",
    " \n",
    "    train_scores_mean = np.mean(train_scores, axis=1)\n",
    "    train_scores_std = np.std(train_scores, axis=1)\n",
    "    test_scores_mean = np.mean(test_scores, axis=1)\n",
    "    test_scores_std = np.std(test_scores, axis=1)\n",
    " \n",
    "    if plot:\n",
    "        plt.figure()\n",
    "        plt.title(title)\n",
    "        if ylim is not None:\n",
    "            plt.ylim(*ylim)\n",
    "        plt.xlabel(u\"train_sample\")\n",
    "        plt.ylabel(u\"accuracy\")\n",
    "        plt.gca().invert_yaxis()\n",
    "        plt.grid()\n",
    " \n",
    "        plt.fill_between(train_sizes, train_scores_mean - train_scores_std, train_scores_mean + train_scores_std, \n",
    "                         alpha=0.1, color=\"b\")\n",
    "        plt.fill_between(train_sizes, test_scores_mean - test_scores_std, test_scores_mean + test_scores_std, \n",
    "                         alpha=0.1, color=\"r\")\n",
    "        plt.plot(train_sizes, train_scores_mean, 'o-', color=\"b\", label=u\"train_score\")\n",
    "        plt.plot(train_sizes, test_scores_mean, 'o-', color=\"r\", label=u\"cross_validation_score\")\n",
    " \n",
    "        plt.legend(loc=\"best\")\n",
    " \n",
    "        plt.draw()\n",
    "        plt.show()\n",
    "        plt.gca().invert_yaxis()\n",
    " \n",
    "    midpoint = ((train_scores_mean[-1] + train_scores_std[-1]) + (test_scores_mean[-1] - test_scores_std[-1])) / 2\n",
    "    diff = (train_scores_mean[-1] + train_scores_std[-1]) - (test_scores_mean[-1] - test_scores_std[-1])\n",
    "    print(\"midpoint\", midpoint, \"diff\", diff)\n",
    "    return midpoint, diff\n",
    "\n",
    "plot_learning_curve(\n",
    "    final_model,\n",
    "    X_filtered.values,\n",
    "    y\n",
    ")"
   ]
  },
  {
   "cell_type": "code",
   "execution_count": null,
   "metadata": {
    "collapsed": true
   },
   "outputs": [],
   "source": []
  },
  {
   "cell_type": "code",
   "execution_count": null,
   "metadata": {
    "collapsed": true
   },
   "outputs": [],
   "source": []
  }
 ],
 "metadata": {
  "kernelspec": {
   "display_name": "Python 3",
   "language": "python",
   "name": "python3"
  },
  "language_info": {
   "codemirror_mode": {
    "name": "ipython",
    "version": 3
   },
   "file_extension": ".py",
   "mimetype": "text/x-python",
   "name": "python",
   "nbconvert_exporter": "python",
   "pygments_lexer": "ipython3",
   "version": "3.6.3"
  }
 },
 "nbformat": 4,
 "nbformat_minor": 2
}
