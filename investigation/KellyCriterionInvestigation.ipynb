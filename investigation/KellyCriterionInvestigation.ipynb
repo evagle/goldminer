{
 "cells": [
  {
   "cell_type": "markdown",
   "metadata": {},
   "source": [
    "凯里公式 \n",
    "```\n",
    "f = win_prob/loss - loss_prob/gain = (win_prob*gain - loss_prob*loss)/gain*loss\n",
    "```\n",
    "\n",
    "经过计算，在实际情况下，因为gain和loss比较小（gain可能平均能到25%就很不错，loss会控制在7%以内），凯里公式计算的仓位都是大于100%的。所以单个股票的仓位管理无法利用凯利公式。\n",
    "\n",
    "结论：\n",
    "+ 想要获取好的收益，在控制风险的情况下满仓是最快速的，但是还是要注意分散仓位控制风险。控制好风险的同时不断提高赢率和平均收益。\n",
    "+ 通过设置止损控制好loss\n",
    "+ 同时提高***选股择时***能力能够提高win_prob\n",
    "+ 精研卖点提高gain\n",
    "\n",
    "\n"
   ]
  },
  {
   "cell_type": "code",
   "execution_count": null,
   "metadata": {
    "collapsed": true
   },
   "outputs": [],
   "source": [
    "#控制亏损的情况下提高胜率和平均收益\n",
    "\n",
    "win_probability = 0.5\n",
    "gain = 0.25\n",
    "loss = 0.06\n"
   ]
  },
  {
   "cell_type": "code",
   "execution_count": 176,
   "metadata": {},
   "outputs": [
    {
     "data": {
      "text/plain": [
       "2.2396973339843744"
      ]
     },
     "execution_count": 176,
     "metadata": {},
     "output_type": "execute_result"
    }
   ],
   "source": [
    "import random\n",
    "\n",
    "def simple(alpha, times):\n",
    "    cash = 1\n",
    "    w = 0\n",
    "    while times > 0:\n",
    "#         r = random.random()\n",
    "        r = times\n",
    "        if r <= 10*win_probability:\n",
    "            w+=1\n",
    "            cash = (1-alpha)*cash + alpha * cash * (1+gain)\n",
    "        else:\n",
    "            cash = (1-alpha)*cash + alpha * cash * (1-loss)\n",
    "        times -= 1\n",
    "    if cash > 1.5 and cash < 1.55:\n",
    "        print(alpha, cash)\n",
    "    return cash\n",
    "\n",
    "simple(1, 10)\n"
   ]
  },
  {
   "cell_type": "code",
   "execution_count": 177,
   "metadata": {
    "scrolled": true
   },
   "outputs": [
    {
     "name": "stdout",
     "output_type": "stream",
     "text": [
      "0.47 1.5105048798770233\n",
      "0.48 1.5227670890299185\n",
      "0.49 1.5350876695418112\n",
      "0.5 1.547466598009012\n",
      "6.333333333333334\n"
     ]
    },
    {
     "data": {
      "image/png": "[encoded data removed]",
      "text/plain": [
       "<matplotlib.figure.Figure at 0x11c6f4588>"
      ]
     },
     "metadata": {},
     "output_type": "display_data"
    }
   ],
   "source": [
    "from matplotlib import pyplot as plt\n",
    "\n",
    "x = [i/100 for i in range(1, 101)]\n",
    "y = [simple(i, 10) for i in x]\n",
    "\n",
    "z = win_probability / loss - (1-win_probability) / gain\n",
    "print(z)\n",
    "\n",
    "plt.plot(x, y)\n",
    "plt.show()\n"
   ]
  },
  {
   "cell_type": "code",
   "execution_count": null,
   "metadata": {
    "collapsed": true
   },
   "outputs": [],
   "source": []
  },
  {
   "cell_type": "code",
   "execution_count": null,
   "metadata": {
    "collapsed": true
   },
   "outputs": [],
   "source": []
  }
 ],
 "metadata": {
  "kernelspec": {
   "display_name": "Python 3",
   "language": "python",
   "name": "python3"
  },
  "language_info": {
   "codemirror_mode": {
    "name": "ipython",
    "version": 3
   },
   "file_extension": ".py",
   "mimetype": "text/x-python",
   "name": "python",
   "nbconvert_exporter": "python",
   "pygments_lexer": "ipython3",
   "version": "3.6.3"
  }
 },
 "nbformat": 4,
 "nbformat_minor": 2
}
