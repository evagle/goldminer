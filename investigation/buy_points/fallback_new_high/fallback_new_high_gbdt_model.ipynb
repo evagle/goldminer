{
 "cells": [
  {
   "cell_type": "code",
   "execution_count": 1,
   "metadata": {},
   "outputs": [
    {
     "name": "stderr",
     "output_type": "stream",
     "text": [
      "/anaconda3/lib/python3.6/site-packages/lightgbm/__init__.py:46: UserWarning: Starting from version 2.2.1, the library file in distribution wheels for macOS is built by the Apple Clang (Xcode_8.3.1) compiler.\n",
      "This means that in case of installing LightGBM from PyPI via the ``pip install lightgbm`` command, you don't need to install the gcc compiler anymore.\n",
      "Instead of that, you need to install the OpenMP library, which is required for running LightGBM on the system with the Apple Clang compiler.\n",
      "You can install the OpenMP library by the following command: ``brew install libomp``.\n",
      "  \"You can install the OpenMP library by the following command: ``brew install libomp``.\", UserWarning)\n"
     ]
    }
   ],
   "source": [
    "import lightgbm as lgb\n",
    "import pandas as pd\n",
    "import numpy as np\n",
    "from datetime import datetime, timedelta\n",
    "from sklearn.metrics import mean_squared_error\n",
    "from sklearn.model_selection import GridSearchCV\n",
    "from sklearn.model_selection import train_test_split\n",
    "from sklearn.datasets import  make_classification\n"
   ]
  },
  {
   "cell_type": "code",
   "execution_count": 2,
   "metadata": {
    "collapsed": true
   },
   "outputs": [],
   "source": [
    "df_raw = pd.read_csv(\"./fallback_new_high_2000_2018-12-16.tsv\", sep=\"\\t\")\n",
    "# df_raw = pd.read_csv(\"~/buypoints.tsv\", sep=\"\\t\")\n",
    "\n",
    "\n",
    "features = [\"average_inner_amplitude\", \n",
    "            \"average_outer_amplitude\", \n",
    "            \"average_turn_rate\", \n",
    "            \"increase_before_fallback\", \n",
    "            \"max_decrease\",  \n",
    "            \"pb_height\", \n",
    "            \"pe_height\", \n",
    "            \"profit_growth\", \n",
    "            \"sma10_120\", \n",
    "            \"sma10_250\", \n",
    "            \"sma120_250\", \n",
    "            \"sma50_120\", \n",
    "            \"variance\", \n",
    "            \"volume_ratio\",\n",
    "            \"adjust_period\",\n",
    "            \"business_growth\",\n",
    "            \"pe\",\n",
    "            \"pb\",\n",
    "            \"mkt_cap\",\n",
    "            \"new_high_days\",\n",
    "            \"days_with_lower_price\",\n",
    "            \"days_from_bottom\",\n",
    "            \"roe\",\n",
    "            \"eps\",\n",
    "            \"close_sma50\",\n",
    "            \"close_sma250\",\n",
    "            \"eps_growth\"\n",
    "           ]\n",
    "target = [\"target\"]\n",
    "\n",
    "# add filter here， like pe > 0\n",
    "# 1. only use end_date <= half year before\n",
    "now = datetime.now()\n",
    "half_year = now - timedelta(days=120)\n",
    "strx =  half_year.strftime(\"%Y-%m-%d\")\n",
    "df_raw = df_raw[df_raw[\"end_date\"] < strx]\n"
   ]
  },
  {
   "cell_type": "code",
   "execution_count": 3,
   "metadata": {},
   "outputs": [
    {
     "name": "stdout",
     "output_type": "stream",
     "text": [
      "Train set shape: (28049, 27)\n",
      "Test set shape: (7013, 27)\n"
     ]
    }
   ],
   "source": [
    "X = df_raw[features]\n",
    "y = df_raw[target]\n",
    "\n",
    "X_train,X_test,y_train,y_test = train_test_split(X, y, test_size=0.2, random_state = 88)\n",
    "\n",
    "print(\"Train set shape:\", X_train.shape)\n",
    "print(\"Test set shape:\", X_test.shape)"
   ]
  },
  {
   "cell_type": "code",
   "execution_count": 4,
   "metadata": {
    "collapsed": true
   },
   "outputs": [],
   "source": [
    "# try classification\n",
    "\n",
    "from lightgbm import LGBMClassifier,LGBMModel\n",
    "from sklearn.metrics import f1_score, precision_score, recall_score, precision_recall_curve, confusion_matrix, average_precision_score\n",
    "from sklearn.model_selection import KFold\n",
    "from sklearn.feature_selection import RFECV\n",
    "import sklearn\n"
   ]
  },
  {
   "cell_type": "code",
   "execution_count": 5,
   "metadata": {},
   "outputs": [
    {
     "name": "stdout",
     "output_type": "stream",
     "text": [
      "Fitting estimator with 27 features.\n"
     ]
    },
    {
     "name": "stderr",
     "output_type": "stream",
     "text": [
      "/anaconda3/lib/python3.6/site-packages/sklearn/utils/validation.py:578: DataConversionWarning: A column-vector y was passed when a 1d array was expected. Please change the shape of y to (n_samples, ), for example using ravel().\n",
      "  y = column_or_1d(y, warn=True)\n"
     ]
    },
    {
     "name": "stdout",
     "output_type": "stream",
     "text": [
      "Fitting estimator with 26 features.\n",
      "Fitting estimator with 25 features.\n",
      "Fitting estimator with 24 features.\n",
      "Fitting estimator with 23 features.\n",
      "Fitting estimator with 22 features.\n",
      "Fitting estimator with 21 features.\n",
      "Fitting estimator with 20 features.\n",
      "Fitting estimator with 19 features.\n",
      "Fitting estimator with 18 features.\n",
      "Fitting estimator with 17 features.\n",
      "Fitting estimator with 16 features.\n",
      "Fitting estimator with 15 features.\n",
      "Fitting estimator with 14 features.\n",
      "Fitting estimator with 13 features.\n",
      "Fitting estimator with 12 features.\n",
      "Fitting estimator with 11 features.\n",
      "Fitting estimator with 10 features.\n",
      "Fitting estimator with 9 features.\n",
      "Fitting estimator with 8 features.\n",
      "Fitting estimator with 7 features.\n",
      "Fitting estimator with 6 features.\n",
      "Fitting estimator with 5 features.\n",
      "Fitting estimator with 4 features.\n",
      "Fitting estimator with 3 features.\n",
      "Fitting estimator with 2 features.\n",
      "Fitting estimator with 27 features.\n",
      "Fitting estimator with 26 features.\n",
      "Fitting estimator with 25 features.\n",
      "Fitting estimator with 24 features.\n",
      "Fitting estimator with 23 features.\n",
      "Fitting estimator with 22 features.\n",
      "Fitting estimator with 21 features.\n",
      "Fitting estimator with 20 features.\n",
      "Fitting estimator with 19 features.\n",
      "Fitting estimator with 18 features.\n",
      "Fitting estimator with 17 features.\n",
      "Fitting estimator with 16 features.\n",
      "Fitting estimator with 15 features.\n",
      "Fitting estimator with 14 features.\n",
      "Fitting estimator with 13 features.\n",
      "Fitting estimator with 12 features.\n",
      "Fitting estimator with 11 features.\n",
      "Fitting estimator with 10 features.\n",
      "Fitting estimator with 9 features.\n",
      "Fitting estimator with 8 features.\n",
      "Fitting estimator with 7 features.\n",
      "Fitting estimator with 6 features.\n",
      "Fitting estimator with 5 features.\n",
      "Fitting estimator with 4 features.\n",
      "Fitting estimator with 3 features.\n",
      "Fitting estimator with 2 features.\n",
      "Fitting estimator with 27 features.\n",
      "Fitting estimator with 26 features.\n",
      "Fitting estimator with 25 features.\n",
      "Fitting estimator with 24 features.\n",
      "Fitting estimator with 23 features.\n",
      "Fitting estimator with 22 features.\n",
      "Fitting estimator with 21 features.\n",
      "Fitting estimator with 20 features.\n",
      "Fitting estimator with 19 features.\n",
      "Fitting estimator with 18 features.\n",
      "Fitting estimator with 17 features.\n",
      "Fitting estimator with 16 features.\n",
      "Fitting estimator with 15 features.\n",
      "Fitting estimator with 14 features.\n",
      "Fitting estimator with 13 features.\n",
      "Fitting estimator with 12 features.\n",
      "Fitting estimator with 11 features.\n",
      "Fitting estimator with 10 features.\n",
      "Fitting estimator with 9 features.\n",
      "Fitting estimator with 8 features.\n",
      "Fitting estimator with 7 features.\n",
      "Fitting estimator with 6 features.\n",
      "Fitting estimator with 5 features.\n",
      "Fitting estimator with 4 features.\n",
      "Fitting estimator with 3 features.\n",
      "Fitting estimator with 2 features.\n",
      "Fitting estimator with 27 features.\n",
      "Fitting estimator with 26 features.\n",
      "Fitting estimator with 25 features.\n",
      "Fitting estimator with 24 features.\n",
      "Fitting estimator with 23 features.\n",
      "Fitting estimator with 22 features.\n",
      "Fitting estimator with 21 features.\n",
      "Fitting estimator with 20 features.\n",
      "Fitting estimator with 19 features.\n",
      "Fitting estimator with 18 features.\n",
      "Fitting estimator with 17 features.\n",
      "Fitting estimator with 16 features.\n",
      "Fitting estimator with 15 features.\n",
      "Fitting estimator with 14 features.\n",
      "Fitting estimator with 13 features.\n",
      "Fitting estimator with 12 features.\n",
      "Fitting estimator with 11 features.\n",
      "Fitting estimator with 10 features.\n",
      "Fitting estimator with 9 features.\n",
      "Fitting estimator with 8 features.\n",
      "Fitting estimator with 7 features.\n",
      "Fitting estimator with 6 features.\n",
      "Fitting estimator with 5 features.\n",
      "Fitting estimator with 4 features.\n",
      "Fitting estimator with 3 features.\n",
      "Fitting estimator with 2 features.\n"
     ]
    },
    {
     "data": {
      "text/plain": [
       "RFECV(cv=KFold(n_splits=4, random_state=None, shuffle=False),\n",
       "   estimator=LGBMClassifier(boosting_type='gbdt', class_weight=None, colsample_bytree=1.0,\n",
       "        importance_type='split', learning_rate=0.1, max_depth=7,\n",
       "        min_child_samples=15, min_child_weight=0.001, min_split_gain=0.0,\n",
       "        n_estimators=150, n_jobs=-1, num_leaves=31, objective='binary',\n",
       "        random_state=None, reg_alpha=0.0, reg_lambda=0.0, silent=False,\n",
       "        subsample=1.0, subsample_for_bin=200000, subsample_freq=0),\n",
       "   n_jobs=1, scoring='average_precision', step=1, verbose=1)"
      ]
     },
     "execution_count": 5,
     "metadata": {},
     "output_type": "execute_result"
    }
   ],
   "source": [
    "#default initial parameters for feature selection\n",
    "lgb_model = LGBMClassifier(boosting_type='gbdt',\n",
    "                      objective='binary',\n",
    "                      max_depth=7,\n",
    "                      learning_rate=0.1,\n",
    "                      n_estimators=150,\n",
    "                      min_child_samples=15,\n",
    "                     silent=False)\n",
    "\n",
    "# Initialize CV and evaluation objects\n",
    "kfold = KFold(n_splits=4)\n",
    "\n",
    "feature_selector = RFECV(lgb_model, cv=kfold, verbose=1, scoring='average_precision')\n",
    "feature_selector.fit(X_train, y_train)\n"
   ]
  },
  {
   "cell_type": "code",
   "execution_count": 6,
   "metadata": {},
   "outputs": [
    {
     "name": "stdout",
     "output_type": "stream",
     "text": [
      "Selected features: \n",
      "['average_inner_amplitude' 'average_outer_amplitude' 'average_turn_rate'\n",
      " 'max_decrease' 'pb_height' 'pe_height' 'profit_growth' 'sma10_250'\n",
      " 'sma120_250' 'sma50_120' 'variance' 'volume_ratio' 'business_growth' 'pe'\n",
      " 'pb' 'mkt_cap' 'days_with_lower_price' 'days_from_bottom' 'roe' 'eps'\n",
      " 'close_sma50' 'eps_growth']\n",
      "\n",
      "Deleted features: \n",
      "['close_sma250', 'new_high_days', 'adjust_period', 'sma10_120', 'increase_before_fallback']\n",
      "\n"
     ]
    }
   ],
   "source": [
    "# Mask with selected features\n",
    "selected_feature_mask = feature_selector.get_support(indices=True)\n",
    "selected_features = X_train[features].iloc[:, selected_feature_mask].columns.values\n",
    "deleted_features = list(set(features) - set(selected_features))\n",
    "\n",
    "print(\"Selected features: \\n{}\\n\".format(selected_features))\n",
    "print(\"Deleted features: \\n{}\\n\".format(deleted_features))\n",
    "\n",
    "\n",
    "# Now we can drop the features deemed bad by the model\n",
    "X_train_filtered = X_train.drop(deleted_features, axis=1)\n",
    "X_test_filtered = X_test.drop(deleted_features, axis=1)\n",
    "X_filtered = X.drop(deleted_features, axis=1)"
   ]
  },
  {
   "cell_type": "markdown",
   "metadata": {},
   "source": [
    "过拟合的解决方案有：\n",
    "1. 减小learning rate\n",
    "2. feature selection,减少feature\n",
    "3. 减少树的数量\n",
    "4. 控制min data in leaf\n",
    "5. 添加正则项"
   ]
  },
  {
   "cell_type": "code",
   "execution_count": 7,
   "metadata": {},
   "outputs": [
    {
     "name": "stdout",
     "output_type": "stream",
     "text": [
      "(28049, 1)\n",
      "Best parameters:  {'learning_rate': 0.1, 'max_depth': 7, 'min_data_in_leaf': 15, 'n_estimators': 150}\n"
     ]
    }
   ],
   "source": [
    "from sklearn.model_selection import GroupKFold, GridSearchCV\n",
    "\n",
    "param_grid = {'max_depth': [5, 6, 7], \n",
    "              'learning_rate': [0.01, 0.05, 0.1],\n",
    "              'n_estimators': [50, 100, 150],\n",
    "              'min_data_in_leaf':  [10, 15, 20, 31],\n",
    "             }\n",
    " \n",
    "kfold = KFold(n_splits=4)\n",
    "\n",
    "gs = GridSearchCV(lgb_model, param_grid, scoring='average_precision', cv=kfold, refit=True)\n",
    "\n",
    "gs.fit(X_train_filtered, y_train.values.ravel(), verbose=100)\n",
    "final_model = gs.best_estimator_\n",
    "\n",
    "final_model._Booster.save_model(\"fallback_new_hight_gbdt_model.txt\")\n",
    "\n",
    "\n",
    "print(y_train.shape)\n",
    "print(\"Best parameters: \", gs.best_params_)\n",
    "\n"
   ]
  },
  {
   "cell_type": "code",
   "execution_count": 8,
   "metadata": {},
   "outputs": [
    {
     "data": {
      "text/plain": [
       "<matplotlib.figure.Figure at 0x1a0c35c710>"
      ]
     },
     "metadata": {},
     "output_type": "display_data"
    },
    {
     "data": {
      "image/png": "[encoded data removed]",
      "text/plain": [
       "<matplotlib.figure.Figure at 0x1a0eb484e0>"
      ]
     },
     "metadata": {},
     "output_type": "display_data"
    }
   ],
   "source": [
    "import lightgbm\n",
    "import matplotlib.pyplot as plt\n",
    "\n",
    "plt.figure(figsize=(20, 16))\n",
    "ax = lightgbm.plot_importance(final_model)\n",
    "\n",
    "plt.show()"
   ]
  },
  {
   "cell_type": "code",
   "execution_count": 9,
   "metadata": {},
   "outputs": [
    {
     "data": {
      "image/png": "[encoded data removed]",
      "text/plain": [
       "<matplotlib.figure.Figure at 0x1a0f864390>"
      ]
     },
     "metadata": {},
     "output_type": "display_data"
    },
    {
     "name": "stdout",
     "output_type": "stream",
     "text": [
      "AUC =  0.796992432032\n"
     ]
    }
   ],
   "source": [
    "from sklearn.metrics import roc_curve, roc_auc_score\n",
    "\n",
    "for mod, X_t in [(final_model, X_test_filtered)]:\n",
    "    preds = mod.predict_proba(X_t)\n",
    "    fpr, tpr, thresholds = roc_curve(y_test, preds[:,1], pos_label=1)\n",
    "    \n",
    "    plt.step(fpr, tpr, color='b', alpha=0.2, where='post')\n",
    "    plt.fill_between(fpr, tpr, step='post', alpha=0.2, color='b')\n",
    "\n",
    "    plt.xlabel('fpr')\n",
    "    plt.ylabel('tpr')\n",
    "    plt.ylim([0.0, 1.05])\n",
    "    plt.xlim([0.0, 1.0])\n",
    "    plt.title('ROC curve')\n",
    "    plt.show()\n",
    "\n",
    "    auc = roc_auc_score(y_test, preds[:, 1])\n",
    "    print(\"AUC = \", auc)"
   ]
  },
  {
   "cell_type": "code",
   "execution_count": 10,
   "metadata": {
    "scrolled": false
   },
   "outputs": [
    {
     "data": {
      "image/png": "[encoded data removed]",
      "text/plain": [
       "<matplotlib.figure.Figure at 0x1a0e7f2eb8>"
      ]
     },
     "metadata": {},
     "output_type": "display_data"
    },
    {
     "name": "stdout",
     "output_type": "stream",
     "text": [
      "r=0.5876 p=0.60 f1=0.59 threshold=0.3740\n",
      "r=0.5777 p=0.61 f1=0.59 threshold=0.3825\n",
      "r=0.5622 p=0.62 f1=0.59 threshold=0.3920\n",
      "r=0.5514 p=0.63 f1=0.59 threshold=0.3993\n",
      "r=0.5265 p=0.64 f1=0.58 threshold=0.4161\n",
      "r=0.5110 p=0.65 f1=0.57 threshold=0.4287\n",
      "r=0.4833 p=0.66 f1=0.56 threshold=0.4433\n",
      "r=0.4692 p=0.67 f1=0.55 threshold=0.4547\n",
      "r=0.4504 p=0.68 f1=0.54 threshold=0.4671\n",
      "r=0.4364 p=0.69 f1=0.53 threshold=0.4758\n",
      "r=0.4157 p=0.70 f1=0.52 threshold=0.4918\n",
      "r=0.3899 p=0.71 f1=0.50 threshold=0.5078\n",
      "r=0.3654 p=0.72 f1=0.48 threshold=0.5242\n",
      "r=0.3443 p=0.73 f1=0.47 threshold=0.5450\n",
      "r=0.3344 p=0.74 f1=0.46 threshold=0.5545\n",
      "r=0.3232 p=0.75 f1=0.45 threshold=0.5649\n",
      "r=0.3100 p=0.76 f1=0.44 threshold=0.5770\n",
      "r=0.2912 p=0.77 f1=0.42 threshold=0.5935\n",
      "r=0.2799 p=0.78 f1=0.41 threshold=0.6039\n",
      "r=0.2442 p=0.79 f1=0.37 threshold=0.6322\n",
      "r=0.2273 p=0.80 f1=0.35 threshold=0.6451\n",
      "r=0.1827 p=0.81 f1=0.30 threshold=0.6875\n",
      "r=0.1696 p=0.82 f1=0.28 threshold=0.7007\n",
      "r=0.1517 p=0.83 f1=0.26 threshold=0.7169\n",
      "r=0.1428 p=0.84 f1=0.24 threshold=0.7247\n",
      "r=0.1090 p=0.85 f1=0.19 threshold=0.7569\n",
      "r=0.1000 p=0.86 f1=0.18 threshold=0.7699\n",
      "r=0.0977 p=0.87 f1=0.18 threshold=0.7753\n",
      "r=0.0742 p=0.88 f1=0.14 threshold=0.8007\n",
      "r=0.0723 p=0.89 f1=0.13 threshold=0.8022\n",
      "average_precision 0.648331294832\n"
     ]
    }
   ],
   "source": [
    "\n",
    "import math\n",
    "def max_recall_for_precision(data, scores, pos_label, min_pr):\n",
    "#       \"\"\"Find precision, recall, threshold which is >= min_pr and maximizes recall\"\"\"\n",
    "    if pos_label==0:\n",
    "        pr, rec, thresh = precision_recall_curve(1 - data, 1 - scores, pos_label=1)\n",
    "        thresh = 1 - thresh #convert threshold back to P(nondefect) score space\n",
    "    else:\n",
    "        pr, rec, thresh = precision_recall_curve(data, scores, pos_label=1)\n",
    "    values = [(r, p, t) for p, r, t in zip(pr, rec, thresh) if p >= min_pr]\n",
    "    if len(values) >=1:\n",
    "        r, p, t = max(values)\n",
    "        return p, r, t\n",
    "    return None, None, None\n",
    "\n",
    "\n",
    "def plot_prcurve(y_test, y_pred):\n",
    "    plt.figure(figsize=(6, 4))\n",
    "    precision,recall,threshold = precision_recall_curve(y_test, y_pred)\n",
    "    plt.step(recall, precision, color='b', alpha=0.1, where='post')\n",
    "    plt.fill_between(recall, precision, step='post', alpha=0.2, color='b')\n",
    "\n",
    "    plt.xlabel('Recall')\n",
    "    plt.ylabel('Precision')\n",
    "    plt.ylim([0.0, 1.05])\n",
    "    plt.xlim([0.0, 1.0])\n",
    "    plt.title('2-class Precision-Recall curve')\n",
    "    plt.show()\n",
    "\n",
    "for mod,X_t in [(final_model, X_test_filtered)]:\n",
    "    preds = mod.predict_proba(X_t)\n",
    "    plot_prcurve(y_test, preds[:,1])\n",
    "\n",
    "    for min_pr in range(60, 90, 1):\n",
    "        min_pr = min_pr / 100.0\n",
    "        p,r,t = max_recall_for_precision(y_test, preds[:,1], 1, min_pr)\n",
    "        f1 = 2 * min_pr * r / (min_pr + r)\n",
    "        print(\"r=%.4f p=%.2f f1=%.2f threshold=%.4f\" % (r, min_pr, f1, t))\n",
    "\n",
    "    for score in ['average_precision']:\n",
    "        evaluator = sklearn.metrics.get_scorer(score)\n",
    "        score_val = evaluator(mod, X_t, y_test)\n",
    "        print(score, score_val)"
   ]
  },
  {
   "cell_type": "code",
   "execution_count": 11,
   "metadata": {},
   "outputs": [
    {
     "name": "stdout",
     "output_type": "stream",
     "text": [
      "(28049, 22)\n",
      "(28049, 1)\n"
     ]
    },
    {
     "data": {
      "image/png": "[encoded data removed]",
      "text/plain": [
       "<matplotlib.figure.Figure at 0x1060464e0>"
      ]
     },
     "metadata": {},
     "output_type": "display_data"
    }
   ],
   "source": [
    "from sklearn.model_selection import learning_curve\n",
    "print(X_train_filtered.shape)\n",
    "print(y_train.shape)\n",
    "\n",
    "train_sizes,train_score,test_score = learning_curve(\n",
    "    final_model,\n",
    "    X_filtered.values,\n",
    "    y.values.ravel(),\n",
    "    train_sizes=[0.1,0.2,0.4,0.6,0.8,1],\n",
    "    cv=4,\n",
    "    scoring='accuracy')\n",
    "\n",
    "train_error =  1- np.mean(train_score,axis=1)\n",
    "test_error = 1- np.mean(test_score,axis=1)\n",
    "plt.plot(train_sizes,train_error,'o-',color = 'r',label = 'training')\n",
    "plt.plot(train_sizes,test_error,'o-',color = 'g',label = 'testing')\n",
    "plt.legend(loc='best')\n",
    "plt.xlabel('traing examples')\n",
    "plt.ylabel('error')\n",
    "plt.show()"
   ]
  },
  {
   "cell_type": "code",
   "execution_count": 12,
   "metadata": {},
   "outputs": [
    {
     "data": {
      "image/png": "[encoded data removed]",
      "text/plain": [
       "<matplotlib.figure.Figure at 0x1a1049a9b0>"
      ]
     },
     "metadata": {},
     "output_type": "display_data"
    },
    {
     "name": "stdout",
     "output_type": "stream",
     "text": [
      "midpoint 0.797192620024 diff 0.0949091201695\n"
     ]
    },
    {
     "data": {
      "text/plain": [
       "(0.79719262002405999, 0.094909120169510364)"
      ]
     },
     "execution_count": 12,
     "metadata": {},
     "output_type": "execute_result"
    }
   ],
   "source": [
    "def plot_learning_curve(estimator, X, y, ylim=None, cv=None, n_jobs=1, title = \"learning-curve\", train_sizes=np.linspace(.05, 1., 20), verbose=0, plot=True):\n",
    "    \"\"\"\n",
    "    画出data在某模型上的learning curve.\n",
    "    参数解释\n",
    "    ----------\n",
    "    estimator : 你用的分类器。\n",
    "    title : 表格的标题。\n",
    "    X : 输入的feature，numpy类型\n",
    "    y : 输入的target vector\n",
    "    ylim : tuple格式的(ymin, ymax), 设定图像中纵坐标的最低点和最高点\n",
    "    cv : 做cross-validation的时候，数据分成的份数，其中一份作为cv集，其余n-1份作为training(默认为3份)\n",
    "    n_jobs : 并行的的任务数(默认1)\n",
    "    \"\"\"\n",
    "    train_sizes, train_scores, test_scores = learning_curve(\n",
    "        estimator, X, y, cv=cv, n_jobs=n_jobs, train_sizes=train_sizes, verbose=verbose, scoring='accuracy')\n",
    " \n",
    "    train_scores_mean = np.mean(train_scores, axis=1)\n",
    "    train_scores_std = np.std(train_scores, axis=1)\n",
    "    test_scores_mean = np.mean(test_scores, axis=1)\n",
    "    test_scores_std = np.std(test_scores, axis=1)\n",
    " \n",
    "    if plot:\n",
    "        plt.figure()\n",
    "        plt.title(title)\n",
    "        if ylim is not None:\n",
    "            plt.ylim(*ylim)\n",
    "        plt.xlabel(u\"train_sample\")\n",
    "        plt.ylabel(u\"accuracy\")\n",
    "        plt.gca().invert_yaxis()\n",
    "        plt.grid()\n",
    " \n",
    "        plt.fill_between(train_sizes, train_scores_mean - train_scores_std, train_scores_mean + train_scores_std, \n",
    "                         alpha=0.1, color=\"b\")\n",
    "        plt.fill_between(train_sizes, test_scores_mean - test_scores_std, test_scores_mean + test_scores_std, \n",
    "                         alpha=0.1, color=\"r\")\n",
    "        plt.plot(train_sizes, train_scores_mean, 'o-', color=\"b\", label=u\"train_score\")\n",
    "        plt.plot(train_sizes, test_scores_mean, 'o-', color=\"r\", label=u\"cross_validation_score\")\n",
    " \n",
    "        plt.legend(loc=\"best\")\n",
    " \n",
    "        plt.draw()\n",
    "        plt.show()\n",
    "        plt.gca().invert_yaxis()\n",
    " \n",
    "    midpoint = ((train_scores_mean[-1] + train_scores_std[-1]) + (test_scores_mean[-1] - test_scores_std[-1])) / 2\n",
    "    diff = (train_scores_mean[-1] + train_scores_std[-1]) - (test_scores_mean[-1] - test_scores_std[-1])\n",
    "    print(\"midpoint\", midpoint, \"diff\", diff)\n",
    "    return midpoint, diff\n",
    "\n",
    "plot_learning_curve(\n",
    "    final_model,\n",
    "    X_filtered.values,\n",
    "    y.values.ravel()\n",
    ")"
   ]
  },
  {
   "cell_type": "code",
   "execution_count": null,
   "metadata": {},
   "outputs": [],
   "source": []
  },
  {
   "cell_type": "code",
   "execution_count": null,
   "metadata": {
    "collapsed": true
   },
   "outputs": [],
   "source": []
  }
 ],
 "metadata": {
  "kernelspec": {
   "display_name": "Python 3",
   "language": "python",
   "name": "python3"
  },
  "language_info": {
   "codemirror_mode": {
    "name": "ipython",
    "version": 3
   },
   "file_extension": ".py",
   "mimetype": "text/x-python",
   "name": "python",
   "nbconvert_exporter": "python",
   "pygments_lexer": "ipython3",
   "version": "3.6.3"
  }
 },
 "nbformat": 4,
 "nbformat_minor": 2
}
