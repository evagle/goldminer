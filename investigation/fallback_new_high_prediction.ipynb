{
 "cells": [
  {
   "cell_type": "code",
   "execution_count": null,
   "metadata": {
    "collapsed": true
   },
   "outputs": [],
   "source": [
    "import lightgbm\n",
    "import json\n",
    "\n",
    "buy_point_predict_model = lightgbm.Booster(model_file='fallback_new_hight_gbdt_model.txt')\n",
    "\n",
    "\n",
    "df_raw = pd.read_csv(\"~/buypoints_20181209_2000.tsv\", sep=\"\\t\")\n",
    "# df_raw = pd.read_csv(\"~/buypoints.tsv\", sep=\"\\t\")\n",
    "\n",
    "with open(\"fallback_then_new_hight.features.json\") as f:\n",
    "    features = json.loads(f.readline().rstrip())\n",
    " \n",
    "\n",
    "target = [\"target\"]\n",
    "\n",
    "# add filter here， like pe > 0\n",
    "# 1. only use end_date <= half year before\n",
    "now = datetime.now()\n",
    "half_year = now - timedelta(days=120)\n",
    "strx =  half_year.strftime(\"%Y-%m-%d\")\n",
    "df_raw = df_raw[df_raw[\"end_date\"] < strx]\n",
    "df_raw[\"end_date\"]\n",
    "\n",
    "buy_point_predict_model.predict()"
   ]
  }
 ],
 "metadata": {
  "kernelspec": {
   "display_name": "Python 3",
   "language": "python",
   "name": "python3"
  },
  "language_info": {
   "codemirror_mode": {
    "name": "ipython",
    "version": 3
   },
   "file_extension": ".py",
   "mimetype": "text/x-python",
   "name": "python",
   "nbconvert_exporter": "python",
   "pygments_lexer": "ipython3",
   "version": "3.6.3"
  }
 },
 "nbformat": 4,
 "nbformat_minor": 2
}
