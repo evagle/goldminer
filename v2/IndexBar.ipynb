{
 "cells": [
  {
   "cell_type": "code",
   "execution_count": null,
   "metadata": {},
   "outputs": [],
   "source": [
    "from gmsdk.api import StrategyBase\n",
    "from gmsdk import md\n",
    "import MySQLdb\n",
    "import codecs\n",
    "from datetime import *\n",
    "import time\n",
    "import sys\n",
    "sys.path.append('../')\n",
    "from DB import *\n",
    "from IndexManager import *\n",
    "\n",
    "ret = md.init(\"17611258516\", \"web4217121\")\n",
    "indexManager = IndexManager()\n",
    "for code in indexManager.getIndexList():\n",
    "    print(\"##\", code, \"##\")\n",
    "    bars = indexManager.queryAllBars(md, code)\n",
    "    indexManager.saveBars(bars)\n",
    "    time.sleep(0.1)\n",
    "# print(stockData.getStockList())\n",
    "\n",
    "# ticks = md.get_dailybars(\"SZSE.000001\", \"2015-10-29\", \"2015-12-29\")\n",
    "# db = DB()\n",
    "# for tick in ticks:\n",
    "#     print(tick.bar_type, tick.adj_factor, tick.amount, tick.volume, tick.open, tick.close, tick.high, tick.low, tick.lower_limit, tick.upper_limit,\n",
    "#          tick.exchange, tick.flag, tick.pre_close, tick.sec_id, tick.lower_limit, tick.upper_limit)\n",
    "#     db.addStockDailyBar(tick)\n",
    "#     break\n",
    "# print(dir(ticks[0]))"
   ]
  },
  {
   "cell_type": "code",
   "execution_count": null,
   "metadata": {},
   "outputs": [],
   "source": []
  },
  {
   "cell_type": "code",
   "execution_count": null,
   "metadata": {},
   "outputs": [],
   "source": []
  }
 ],
 "metadata": {
  "kernelspec": {
   "display_name": "Python 3",
   "language": "python",
   "name": "python3"
  },
  "language_info": {
   "codemirror_mode": {
    "name": "ipython",
    "version": 3
   },
   "file_extension": ".py",
   "mimetype": "text/x-python",
   "name": "python",
   "nbconvert_exporter": "python",
   "pygments_lexer": "ipython3",
   "version": "3.6.4"
  }
 },
 "nbformat": 4,
 "nbformat_minor": 2
}
