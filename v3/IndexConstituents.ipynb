{
 "cells": [
  {
   "cell_type": "code",
   "execution_count": 4,
   "metadata": {},
   "outputs": [
    {
     "ename": "ModuleNotFoundError",
     "evalue": "No module named 'gm'",
     "output_type": "error",
     "traceback": [
      "\u001b[0;31m---------------------------------------------------------------------------\u001b[0m",
      "\u001b[0;31mModuleNotFoundError\u001b[0m                       Traceback (most recent call last)",
      "\u001b[0;32m<ipython-input-4-87e18ca25793>\u001b[0m in \u001b[0;36m<module>\u001b[0;34m()\u001b[0m\n\u001b[1;32m      1\u001b[0m \u001b[0;31m# coding=utf-8\u001b[0m\u001b[0;34m\u001b[0m\u001b[0;34m\u001b[0m\u001b[0m\n\u001b[1;32m      2\u001b[0m \u001b[0;32mfrom\u001b[0m \u001b[0m__future__\u001b[0m \u001b[0;32mimport\u001b[0m \u001b[0mprint_function\u001b[0m\u001b[0;34m,\u001b[0m \u001b[0mabsolute_import\u001b[0m\u001b[0;34m,\u001b[0m \u001b[0municode_literals\u001b[0m\u001b[0;34m\u001b[0m\u001b[0m\n\u001b[0;32m----> 3\u001b[0;31m \u001b[0;32mfrom\u001b[0m \u001b[0mgm\u001b[0m\u001b[0;34m.\u001b[0m\u001b[0mapi\u001b[0m \u001b[0;32mimport\u001b[0m \u001b[0;34m*\u001b[0m\u001b[0;34m\u001b[0m\u001b[0m\n\u001b[0m\u001b[1;32m      4\u001b[0m \u001b[0;34m\u001b[0m\u001b[0m\n\u001b[1;32m      5\u001b[0m \u001b[0;32mimport\u001b[0m \u001b[0mMySQLdb\u001b[0m\u001b[0;34m\u001b[0m\u001b[0m\n",
      "\u001b[0;31mModuleNotFoundError\u001b[0m: No module named 'gm'"
     ]
    }
   ],
   "source": [
    "# coding=utf-8\n",
    "from __future__ import print_function, absolute_import, unicode_literals\n",
    "from gm.api import *\n",
    "\n",
    "import MySQLdb\n",
    "import codecs\n",
    "from datetime import *\n",
    "import time\n",
    "import sys\n",
    "sys.path.append('../')\n",
    "from DB import *\n",
    "\n",
    "set_token('a0998908534d317105b2184afbe436a4104dc51b')\n",
    "\n",
    "class StockData():\n",
    "    def __init__(self):\n",
    "        self.db = DB()\n",
    "        \n",
    "    def getStockList(self):\n",
    "        return self.db.getStockList()\n",
    "    \n",
    "    def getSymbol(self, code):\n",
    "        if code[0:1] == \"6\":\n",
    "            return \"SHSE\"\n",
    "        return \"SZSE\"\n",
    "    \n",
    "    def queryAllStockBar(self, md, code):\n",
    "        startdate = self.db.getStockLatestDate(code)\n",
    "        if startdate is None:\n",
    "            startdate = self.db.getStockStartDate(code)\n",
    "        else:\n",
    "            startdate = startdate + timedelta(days=1)\n",
    "        enddate = datetime.now()+timedelta(days=1)\n",
    "        print(startdate, enddate)\n",
    "        bars = md.get_dailybars(self.getSymbol(code) + \".\" + code, startdate.strftime(\"%Y-%m-%d\"), enddate.strftime(\"%Y-%m-%d\"))\n",
    "        return bars\n",
    "    \n",
    "    def saveBars(self, bars):\n",
    "        for bar in bars:\n",
    "            self.db.addStockDailyBar(bar)\n",
    "        print(\"insert %d bars\" % len(bars))\n",
    "\n",
    "class IndexData():\n",
    "    def __init__(self):\n",
    "        self.db = DB()\n",
    "        \n",
    "    def getIndexList(self):\n",
    "        return self.db.getIndexList()\n",
    "    \n",
    "    def getSymbol(self, code):\n",
    "        if code[0:1] == \"0\":\n",
    "            return \"SHSE\"\n",
    "        return \"SZSE\"\n",
    "    \n",
    "    def queryInstituents(self, code):\n",
    "        startdate = self.db.getLastIndexDate(code)\n",
    "        enddate = datetime.now()+timedelta(days=1)\n",
    "        print(startdate, enddate, self.getSymbol(code)+ \".\" +code)\n",
    "        results = get_history_constituents(index=self.getSymbol(code)+ \".\" +code, start_date=startdate, end_date=enddate)\n",
    "        return results\n",
    "    \n",
    "    def saveConstituents(self, code, constituents):\n",
    "        for constituent in constituents:\n",
    "            self.db.addIndexConstituent(code, constituent)\n",
    "        print(\"insert %d constituents\" % len(constituents)) \n",
    "        \n",
    "\n",
    "indexData = IndexData()\n",
    "for code in indexData.getIndexList():\n",
    "    print(\"##\", code, \"##\")\n",
    "    results = indexData.queryInstituents(code)\n",
    "    indexData.saveConstituents(code, results)\n",
    "    time.sleep(1)\n",
    "# data = get_history_constituents(index='SHSE.000001',start_date='2017-12-31', end_date='2017-12-31')\n",
    "# print(data)"
   ]
  },
  {
   "cell_type": "code",
   "execution_count": null,
   "metadata": {},
   "outputs": [],
   "source": []
  }
 ],
 "metadata": {
  "kernelspec": {
   "display_name": "Python 3",
   "language": "python",
   "name": "python3"
  },
  "language_info": {
   "codemirror_mode": {
    "name": "ipython",
    "version": 3
   },
   "file_extension": ".py",
   "mimetype": "text/x-python",
   "name": "python",
   "nbconvert_exporter": "python",
   "pygments_lexer": "ipython3",
   "version": "3.6.4"
  }
 },
 "nbformat": 4,
 "nbformat_minor": 2
}
