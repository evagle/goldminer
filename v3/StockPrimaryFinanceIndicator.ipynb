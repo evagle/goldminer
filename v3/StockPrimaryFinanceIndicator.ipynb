{
 "cells": [
  {
   "cell_type": "code",
   "execution_count": null,
   "metadata": {},
   "outputs": [],
   "source": [
    "# coding=utf-8\n",
    "from __future__ import print_function, absolute_import, unicode_literals\n",
    "from gm.api import *\n",
    "\n",
    "import MySQLdb\n",
    "import codecs\n",
    "from datetime import *\n",
    "import time\n",
    "import sys\n",
    "sys.path.append('../')\n",
    "from DB import *\n",
    "from StockManager import *\n",
    "from IndexManager import *\n",
    "from FundamentalsManager import *\n",
    "\n",
    "set_token('a0998908534d317105b2184afbe436a4104dc51b')\n",
    "\n",
    "fieldstr = 'EBIT,EBITDA,EBITDASCOVER,EBITSCOVER,EPSBASIC,EPSBASICEPSCUT,EPSDILUTED,EPSDILUTEDCUT,EPSFULLDILUTED,EPSFULLDILUTEDCUT,EPSWEIGHTED,EPSWEIGHTEDCUT,NPCUT,OPNCFPS,ROEDILUTED,ROEDILUTEDCUT,ROEWEIGHTED,ROEWEIGHTEDCUT'\n",
    "table = 'prim_finance_indicator'\n",
    "providor = FundamentalsManager()\n",
    "stockManager = StockManager()\n",
    "\n",
    "for code in stockManager.getStockList():\n",
    "    print(\"##\", code, \"##\")\n",
    "    fundamentals = providor.getFundamentals(code, table, fieldstr)\n",
    "    providor.saveFundamentals(code, fundamentals, table, fieldstr)\n",
    "    time.sleep(0.1)\n"
   ]
  }
 ],
 "metadata": {
  "kernelspec": {
   "display_name": "Python 3",
   "language": "python",
   "name": "python3"
  },
  "language_info": {
   "codemirror_mode": {
    "name": "ipython",
    "version": 3
   },
   "file_extension": ".py",
   "mimetype": "text/x-python",
   "name": "python",
   "nbconvert_exporter": "python",
   "pygments_lexer": "ipython3",
   "version": "3.6.4"
  }
 },
 "nbformat": 4,
 "nbformat_minor": 2
}
