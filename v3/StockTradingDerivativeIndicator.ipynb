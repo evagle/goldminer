{
 "cells": [
  {
   "cell_type": "code",
   "execution_count": 2,
   "metadata": {},
   "outputs": [
    {
     "ename": "ModuleNotFoundError",
     "evalue": "No module named 'gm'",
     "output_type": "error",
     "traceback": [
      "\u001b[0;31m---------------------------------------------------------------------------\u001b[0m",
      "\u001b[0;31mModuleNotFoundError\u001b[0m                       Traceback (most recent call last)",
      "\u001b[0;32m<ipython-input-2-edf111c5a7ae>\u001b[0m in \u001b[0;36m<module>\u001b[0;34m()\u001b[0m\n\u001b[1;32m      1\u001b[0m \u001b[0;31m# coding=utf-8\u001b[0m\u001b[0;34m\u001b[0m\u001b[0;34m\u001b[0m\u001b[0m\n\u001b[1;32m      2\u001b[0m \u001b[0;32mfrom\u001b[0m \u001b[0m__future__\u001b[0m \u001b[0;32mimport\u001b[0m \u001b[0mprint_function\u001b[0m\u001b[0;34m,\u001b[0m \u001b[0mabsolute_import\u001b[0m\u001b[0;34m,\u001b[0m \u001b[0municode_literals\u001b[0m\u001b[0;34m\u001b[0m\u001b[0m\n\u001b[0;32m----> 3\u001b[0;31m \u001b[0;32mfrom\u001b[0m \u001b[0mgm\u001b[0m\u001b[0;34m.\u001b[0m\u001b[0mapi\u001b[0m \u001b[0;32mimport\u001b[0m \u001b[0;34m*\u001b[0m\u001b[0;34m\u001b[0m\u001b[0m\n\u001b[0m\u001b[1;32m      4\u001b[0m \u001b[0;34m\u001b[0m\u001b[0m\n\u001b[1;32m      5\u001b[0m \u001b[0;32mimport\u001b[0m \u001b[0mMySQLdb\u001b[0m\u001b[0;34m\u001b[0m\u001b[0m\n",
      "\u001b[0;31mModuleNotFoundError\u001b[0m: No module named 'gm'"
     ]
    }
   ],
   "source": [
    "# coding=utf-8\n",
    "from __future__ import print_function, absolute_import, unicode_literals\n",
    "from gm.api import *\n",
    "\n",
    "import MySQLdb\n",
    "import codecs\n",
    "from datetime import *\n",
    "import time\n",
    "import sys\n",
    "\n",
    "sys.path.append('../')\n",
    "from DB import *\n",
    "from StockManager import *\n",
    "from IndexManager import *\n",
    "\n",
    "set_token('a0998908534d317105b2184afbe436a4104dc51b')\n",
    "\n",
    "\n",
    "# class FundamentalsData():\n",
    "#     def __init__(self):\n",
    "#         self.db = DB()\n",
    "\n",
    "#     def getSymbol(self, code):\n",
    "#         if code[0:1] == \"6\":\n",
    "#             return \"SHSE\"\n",
    "#         return \"SZSE\"\n",
    "\n",
    "#     def getFundamentals(self, code):\n",
    "#         startdate = self.db.getLastFundamentalsDate(code)\n",
    "#         enddate = datetime.now()+timedelta(days=1)\n",
    "#         print(startdate, enddate, self.getSymbol(code)+ \".\" +code)\n",
    "#         results = get_fundamentals(table='trading_derivative_indicator', symbols=self.getSymbol(code) + \".\" + code, \n",
    "#             start_date=startdate, end_date=enddate, \n",
    "#                 fields='DY,EV,EVEBITDA,EVPS,LYDY,NEGOTIABLEMV,PB,PCLFY,PCTTM,PELFY,PELFYNPAAEI,PEMRQ,PEMRQNPAAEI,PETTM,PETTMNPAAEI,PSLFY,PSMRQ,PSTTM,TCLOSE,TOTMKTCAP,TRADEDATE,TURNRATE,TOTAL_SHARE,FLOW_SHARE')\n",
    "#         return results\n",
    "\n",
    "#     def saveFundamentals(self, code, fundamentals):\n",
    "# #         for fundamental in fundamentals:\n",
    "#         if len(fundamentals) > 0:\n",
    "#             self.db.addFundamental(code, fundamentals)\n",
    "#             print(\"insert %d fundamentals\" % len(fundamentals))\n",
    "#         else:\n",
    "#             print(\"%s is up to date\" % code)\n",
    "\n",
    "            \n",
    "fieldstr = 'DY,EV,EVEBITDA,EVPS,LYDY,NEGOTIABLEMV,PB,PCLFY,PCTTM,PELFY,PELFYNPAAEI,PEMRQ,PEMRQNPAAEI,PETTM,PETTMNPAAEI,PSLFY,PSMRQ,PSTTM,TCLOSE,TOTMKTCAP,TRADEDATE,TURNRATE,TOTAL_SHARE,FLOW_SHARE'\n",
    "table = 'trading_derivative_indicator'\n",
    "providor = FundamentalsManager()\n",
    "stockManager = StockManager()\n",
    "for code in stockManager.getStockList():\n",
    "    print(\"##\", code, \"##\")\n",
    "    fundamentals = providor.getFundamentals(code, table, fieldstr)\n",
    "    providor.saveFundamentals(code, fundamentals, table, fieldstr)\n",
    "\n",
    "    \n",
    "# providor = FundamentalsData()\n",
    "# stockManager = StockManager()\n",
    "# for code in stockManager.getStockList():\n",
    "#     print(\"##\", code, \"##\")\n",
    "#     fundamentals = providor.getFundamentals(code)\n",
    "#     providor.saveFundamentals(code, fundamentals)\n",
    "    # break"
   ]
  },
  {
   "cell_type": "code",
   "execution_count": null,
   "metadata": {},
   "outputs": [],
   "source": []
  }
 ],
 "metadata": {
  "kernelspec": {
   "display_name": "Python 3",
   "language": "python",
   "name": "python3"
  },
  "language_info": {
   "codemirror_mode": {
    "name": "ipython",
    "version": 3
   },
   "file_extension": ".py",
   "mimetype": "text/x-python",
   "name": "python",
   "nbconvert_exporter": "python",
   "pygments_lexer": "ipython3",
   "version": "3.6.4"
  }
 },
 "nbformat": 4,
 "nbformat_minor": 2
}
